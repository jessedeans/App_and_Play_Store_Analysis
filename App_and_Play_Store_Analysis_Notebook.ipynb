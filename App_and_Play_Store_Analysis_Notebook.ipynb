{
 "cells": [
  {
   "cell_type": "markdown",
   "metadata": {},
   "source": [
    "# I Have an Idea for an App, Should I build it?\n",
    "A few years ago I had an idea for an app. But I knew nothing about coding, or app building. I still don't know about app building, but I think I've learned a thing or two about coding. \n",
    "\n",
    "In this notebook I will analyze data to determine what kind of free apps are likely to attract more users and be more popular on both the Apple App Store and the Google Play Store. A popular app has a better chance of generating ad revenue. Which would be necessary since a paid version of my idea already exists on the Apple App Store. After determining the types of apps that are popular. I'll decide if my idea has a chance.\n",
    "\n",
    "This notebook is based on a guided project from  Dataquest.io, an online platform to learn Data Analysis and Data Science. The learning goal of the project was to review common data types, lists, for loops, conditional statements, dictionaries, and functions. I tweaked the project to apply to my own experinces described above.\n",
    "\n",
    "\n",
    "## Open and explore the data\n",
    "As of 2019 Q4 there are more than 2.5 million apps on the Google Play Store and more than 1.8 million apps on the Apple App store. [Source](https://www.statista.com/statistics/276623/number-of-apps-available-in-leading-app-stores/)\n",
    "\n",
    "Instead of collecting and analyzing this huge amount of data, I will use a publicly available subset of data from each store available on kaggle. \n",
    "- The Apple app store dataset contains approximately seven thousand iOS apps and is available [here](https://www.kaggle.com/ramamet4/app-store-apple-data-set-10k-apps). \n",
    "- The Google Play Store dataset contains data on approximately ten thousand Android apps and is available [here](https://www.kaggle.com/ramamet4/app-store-apple-data-set-10k-apps). "
   ]
  },
  {
   "cell_type": "code",
   "execution_count": 30,
   "metadata": {},
   "outputs": [],
   "source": [
    "from csv import reader\n",
    "\n",
    "# Open Apple Store Dataset\n",
    "open_file = open('AppleStore.csv')\n",
    "read_file = reader(open_file)\n",
    "apple = list(read_file)\n",
    "apple_header = apple[0]\n",
    "apple = apple[1:]\n",
    "\n",
    "#Open Google Play Dataset\n",
    "open_file = open('googleplaystore.csv')\n",
    "read_file = reader(open_file)\n",
    "google = list(read_file)\n",
    "google_header = google[0]\n",
    "google = google[1:]\n"
   ]
  },
  {
   "cell_type": "code",
   "execution_count": 31,
   "metadata": {},
   "outputs": [],
   "source": [
    "def explore_data(list_of_lists, start, end, \n",
    "                 rows_and_columns = False):\n",
    "    dataset_slice = list_of_lists[start:end]\n",
    "    for row in dataset_slice:\n",
    "        print(row)\n",
    "        print('\\n')\n",
    "    if rows_and_columns:\n",
    "        print('Number of rows:', len(list_of_lists))\n",
    "        print('Number of columns:', len(list_of_lists[0]))\n",
    "        \n"
   ]
  },
  {
   "cell_type": "code",
   "execution_count": 32,
   "metadata": {},
   "outputs": [
    {
     "name": "stdout",
     "output_type": "stream",
     "text": [
      "['App', 'Category', 'Rating', 'Reviews', 'Size', 'Installs', 'Type', 'Price', 'Content Rating', 'Genres', 'Last Updated', 'Current Ver', 'Android Ver']\n",
      "\n",
      "\n",
      "['Photo Editor & Candy Camera & Grid & ScrapBook', 'ART_AND_DESIGN', '4.1', '159', '19M', '10,000+', 'Free', '0', 'Everyone', 'Art & Design', 'January 7, 2018', '1.0.0', '4.0.3 and up']\n",
      "\n",
      "\n",
      "['Coloring book moana', 'ART_AND_DESIGN', '3.9', '967', '14M', '500,000+', 'Free', '0', 'Everyone', 'Art & Design;Pretend Play', 'January 15, 2018', '2.0.0', '4.0.3 and up']\n",
      "\n",
      "\n",
      "['U Launcher Lite – FREE Live Cool Themes, Hide Apps', 'ART_AND_DESIGN', '4.7', '87510', '8.7M', '5,000,000+', 'Free', '0', 'Everyone', 'Art & Design', 'August 1, 2018', '1.2.4', '4.0.3 and up']\n",
      "\n",
      "\n",
      "Number of rows: 10841\n",
      "Number of columns: 13\n"
     ]
    }
   ],
   "source": [
    "print(google_header)\n",
    "print('\\n')\n",
    "explore_data(google, 0, 3, True)"
   ]
  },
  {
   "cell_type": "code",
   "execution_count": 33,
   "metadata": {},
   "outputs": [
    {
     "name": "stdout",
     "output_type": "stream",
     "text": [
      "['id', 'track_name', 'size_bytes', 'currency', 'price', 'rating_count_tot', 'rating_count_ver', 'user_rating', 'user_rating_ver', 'ver', 'cont_rating', 'prime_genre', 'sup_devices.num', 'ipadSc_urls.num', 'lang.num', 'vpp_lic']\n",
      "\n",
      "\n",
      "['284882215', 'Facebook', '389879808', 'USD', '0.0', '2974676', '212', '3.5', '3.5', '95.0', '4+', 'Social Networking', '37', '1', '29', '1']\n",
      "\n",
      "\n",
      "['389801252', 'Instagram', '113954816', 'USD', '0.0', '2161558', '1289', '4.5', '4.0', '10.23', '12+', 'Photo & Video', '37', '0', '29', '1']\n",
      "\n",
      "\n",
      "['529479190', 'Clash of Clans', '116476928', 'USD', '0.0', '2130805', '579', '4.5', '4.5', '9.24.12', '9+', 'Games', '38', '5', '18', '1']\n",
      "\n",
      "\n",
      "Number of rows: 7197\n",
      "Number of columns: 16\n"
     ]
    }
   ],
   "source": [
    "print(apple_header)\n",
    "print('\\n')\n",
    "explore_data(apple, 0, 3, True)"
   ]
  },
  {
   "cell_type": "markdown",
   "metadata": {},
   "source": [
    "## Data Cleaning\n",
    " \n",
    "### Delete Inaccurate Data\n",
    "Kaggle datasets have a dedicated discussion section. The google data set has a known error at index 10472 that is mentioned in the discussion page. [here](https://www.kaggle.com/lava18/google-play-store-apps/discussion?sortBy=top&group=all&page=1&pageSize=20&category=all)\n",
    " \n",
    "Below I inspect the list and compare it to the header. "
   ]
  },
  {
   "cell_type": "code",
   "execution_count": 34,
   "metadata": {},
   "outputs": [
    {
     "name": "stdout",
     "output_type": "stream",
     "text": [
      "['App', 'Category', 'Rating', 'Reviews', 'Size', 'Installs', 'Type', 'Price', 'Content Rating', 'Genres', 'Last Updated', 'Current Ver', 'Android Ver']\n",
      "\n",
      "\n",
      "['Life Made WI-Fi Touchscreen Photo Frame', '1.9', '19', '3.0M', '1,000+', 'Free', '0', 'Everyone', '', 'February 11, 2018', '1.0.19', '4.0 and up']\n"
     ]
    }
   ],
   "source": [
    "print(google_header)\n",
    "print('\\n')\n",
    "print(google[10472])"
   ]
  },
  {
   "cell_type": "markdown",
   "metadata": {},
   "source": [
    "Index 10472 corresponds to the app Life Made WI-Fi Touchscreen Photo Frame. Compared to the header row, the Category value is missing and the rating is 19. The maximum rating for a Google Play app is 5. I'll just delete this row."
   ]
  },
  {
   "cell_type": "code",
   "execution_count": 35,
   "metadata": {},
   "outputs": [
    {
     "name": "stdout",
     "output_type": "stream",
     "text": [
      "10841\n",
      "10840\n"
     ]
    }
   ],
   "source": [
    "print(len(google))\n",
    "del(google[10472])\n",
    "print(len(google))"
   ]
  },
  {
   "cell_type": "markdown",
   "metadata": {},
   "source": [
    "The App Store discussion page does not mention any errors or missing values. Fingers crossed I don't find any.\n",
    "\n",
    "### Identify duplicate entries\n",
    "\n",
    "Now that I've checked for missing data, I'll now check for duplicate entries."
   ]
  },
  {
   "cell_type": "code",
   "execution_count": 36,
   "metadata": {},
   "outputs": [
    {
     "name": "stdout",
     "output_type": "stream",
     "text": [
      "Number of unique apps: 9659\n",
      "Number of duplicate apps: 1181\n",
      "Examples of duplicate apps: ['Quick PDF Scanner + OCR FREE', 'Box', 'Google My Business', 'ZOOM Cloud Meetings', 'join.me - Simple Meetings', 'Box', 'Zenefits', 'Google Ads', 'Google My Business', 'Slack']\n"
     ]
    }
   ],
   "source": [
    "duplicate_apps = []\n",
    "unique_apps = []\n",
    "\n",
    "for app in google:\n",
    "    name = app[0]\n",
    "    if name in unique_apps:\n",
    "        duplicate_apps.append(name)\n",
    "    else:\n",
    "        unique_apps.append(name)\n",
    "\n",
    "print('Number of unique apps:', len(unique_apps) )       \n",
    "print('Number of duplicate apps:', len(duplicate_apps))\n",
    "print('Examples of duplicate apps:', duplicate_apps[:10])"
   ]
  },
  {
   "cell_type": "markdown",
   "metadata": {},
   "source": [
    "The code didn't identify any duplicates in the App Store data.\n",
    "\n",
    "Now I'll inspect the Slack duplicates to see which entry I should keep."
   ]
  },
  {
   "cell_type": "code",
   "execution_count": 37,
   "metadata": {
    "scrolled": true
   },
   "outputs": [
    {
     "name": "stdout",
     "output_type": "stream",
     "text": [
      "['App', 'Category', 'Rating', 'Reviews', 'Size', 'Installs', 'Type', 'Price', 'Content Rating', 'Genres', 'Last Updated', 'Current Ver', 'Android Ver']\n",
      "\n",
      "\n",
      "['Slack', 'BUSINESS', '4.4', '51507', 'Varies with device', '5,000,000+', 'Free', '0', 'Everyone', 'Business', 'August 2, 2018', 'Varies with device', 'Varies with device']\n",
      "['Slack', 'BUSINESS', '4.4', '51507', 'Varies with device', '5,000,000+', 'Free', '0', 'Everyone', 'Business', 'August 2, 2018', 'Varies with device', 'Varies with device']\n",
      "['Slack', 'BUSINESS', '4.4', '51510', 'Varies with device', '5,000,000+', 'Free', '0', 'Everyone', 'Business', 'August 2, 2018', 'Varies with device', 'Varies with device']\n"
     ]
    }
   ],
   "source": [
    "print(google_header)\n",
    "print('\\n')\n",
    "for app in google:\n",
    "    name = app[0]\n",
    "    if name == 'Slack':\n",
    "        print(app)"
   ]
  },
  {
   "cell_type": "markdown",
   "metadata": {},
   "source": [
    "The Slack duplicates have different values in index 3 which corresponds to the number of reviews. This suggests the data was collected at different times. Because the number of reviews generally increases the longer an app is available the entry with the most reviews is likely the most recent. I'll keep the app with the most reviews and delete the other duplicates.\n",
    "\n",
    "### Remove Duplicate entries\n",
    "To remove the duplicates I will: \n",
    "- Create a dictionary, where each dictionary key is a unique app name and the corresponding dictionary value is the highest number of reviews of that app.\n",
    "- Use the information stored in the dictionary and create a new data set, which will have only one entry per app (and for each app, I will only select the entry with the highest number of reviews)."
   ]
  },
  {
   "cell_type": "code",
   "execution_count": 38,
   "metadata": {},
   "outputs": [
    {
     "name": "stdout",
     "output_type": "stream",
     "text": [
      "Expected number of unique apps: 9659\n",
      "Actual number of unique apps: 9659\n"
     ]
    }
   ],
   "source": [
    "reviews_max = {}\n",
    "for app in google:\n",
    "    name = app[0]\n",
    "    n_reviews = float(app[3])\n",
    "    if name in reviews_max and reviews_max[name]<n_reviews:\n",
    "        reviews_max[name] = n_reviews\n",
    "    elif name not in reviews_max:\n",
    "        reviews_max[name] = n_reviews\n",
    "\n",
    "print('Expected number of unique apps:', len(unique_apps) )\n",
    "print ('Actual number of unique apps:', len(reviews_max))"
   ]
  },
  {
   "cell_type": "code",
   "execution_count": 39,
   "metadata": {},
   "outputs": [
    {
     "name": "stdout",
     "output_type": "stream",
     "text": [
      "['Photo Editor & Candy Camera & Grid & ScrapBook', 'ART_AND_DESIGN', '4.1', '159', '19M', '10,000+', 'Free', '0', 'Everyone', 'Art & Design', 'January 7, 2018', '1.0.0', '4.0.3 and up']\n",
      "\n",
      "\n",
      "['U Launcher Lite – FREE Live Cool Themes, Hide Apps', 'ART_AND_DESIGN', '4.7', '87510', '8.7M', '5,000,000+', 'Free', '0', 'Everyone', 'Art & Design', 'August 1, 2018', '1.2.4', '4.0.3 and up']\n",
      "\n",
      "\n",
      "['Sketch - Draw & Paint', 'ART_AND_DESIGN', '4.5', '215644', '25M', '50,000,000+', 'Free', '0', 'Teen', 'Art & Design', 'June 8, 2018', 'Varies with device', '4.2 and up']\n",
      "\n",
      "\n",
      "Number of rows: 9659\n",
      "Number of columns: 13\n"
     ]
    }
   ],
   "source": [
    "google_clean = []\n",
    "already_added = []\n",
    "\n",
    "for app in google:\n",
    "    name = app[0]\n",
    "    n_reviews = float(app[3])\n",
    "    if (n_reviews == reviews_max[name]) and (name not in already_added):\n",
    "        google_clean.append(app)\n",
    "        already_added.append(name)\n",
    "        \n",
    "explore_data(google_clean, 0, 3, True)"
   ]
  },
  {
   "cell_type": "markdown",
   "metadata": {
    "collapsed": true
   },
   "source": [
    "### Remove Non-English Apps\n",
    "\n",
    "The app I had in mind is geared toward an English speaking audience. Both data sets contain apps from across the world, including apps directed to non english speakers as shown below."
   ]
  },
  {
   "cell_type": "code",
   "execution_count": 40,
   "metadata": {},
   "outputs": [
    {
     "name": "stdout",
     "output_type": "stream",
     "text": [
      "【脱出ゲーム】絶対に最後までプレイしないで 〜謎解き＆ブロックパズル〜\n",
      "中国語 AQリスニング\n",
      "لعبة تقدر تربح DZ\n"
     ]
    }
   ],
   "source": [
    "print(apple[6731][1])\n",
    "\n",
    "print(google_clean[4412][0])\n",
    "print(google_clean[7940][0])"
   ]
  },
  {
   "cell_type": "markdown",
   "metadata": {},
   "source": [
    "Below I'll build a function incorporating the built in [ord()](https://docs.python.org/3.4/library/functions.html?highlight=ord#ord) funtion to filter out non-english apps. Given a string representing one Unicode character, the ord() function returns an integer representing the Unicode code point of that character. English text is numbers 0 through 127. If an app name contains more than three characters that are greater than 127, then it probably means that the app has a non-English name. "
   ]
  },
  {
   "cell_type": "code",
   "execution_count": 41,
   "metadata": {},
   "outputs": [
    {
     "name": "stdout",
     "output_type": "stream",
     "text": [
      "True\n",
      "True\n",
      "False\n"
     ]
    }
   ],
   "source": [
    "def is_string_english(string):\n",
    "    not_english = 0\n",
    "    \n",
    "    for char in string:\n",
    "        if ord(char) > 127:\n",
    "            not_english += 1\n",
    "            \n",
    "    if not_english > 3:\n",
    "        return False\n",
    "    else:\n",
    "        return True\n",
    "\n",
    "#Test above function\n",
    "print(is_string_english('Instagram'))\n",
    "print(is_string_english('Instachat 😜'))\n",
    "print(is_string_english(google_clean[4412][0]))\n"
   ]
  },
  {
   "cell_type": "markdown",
   "metadata": {},
   "source": [
    "The is_string_english() function allows up to three characters outside of the English character range because apps may incorporate emojis or other symbols (™, — (em dash), – (en dash), etc.) that fall outside of the range.\n",
    "\n",
    "Below I use the function to filter out the non-english apps, and use the previously created explore_data() function to inspect the results."
   ]
  },
  {
   "cell_type": "code",
   "execution_count": 42,
   "metadata": {},
   "outputs": [
    {
     "name": "stdout",
     "output_type": "stream",
     "text": [
      "Google\n",
      "['Photo Editor & Candy Camera & Grid & ScrapBook', 'ART_AND_DESIGN', '4.1', '159', '19M', '10,000+', 'Free', '0', 'Everyone', 'Art & Design', 'January 7, 2018', '1.0.0', '4.0.3 and up']\n",
      "\n",
      "\n",
      "['U Launcher Lite – FREE Live Cool Themes, Hide Apps', 'ART_AND_DESIGN', '4.7', '87510', '8.7M', '5,000,000+', 'Free', '0', 'Everyone', 'Art & Design', 'August 1, 2018', '1.2.4', '4.0.3 and up']\n",
      "\n",
      "\n",
      "Number of rows: 9614\n",
      "Number of columns: 13\n",
      "\n",
      "\n",
      "Apple\n",
      "['284882215', 'Facebook', '389879808', 'USD', '0.0', '2974676', '212', '3.5', '3.5', '95.0', '4+', 'Social Networking', '37', '1', '29', '1']\n",
      "\n",
      "\n",
      "['389801252', 'Instagram', '113954816', 'USD', '0.0', '2161558', '1289', '4.5', '4.0', '10.23', '12+', 'Photo & Video', '37', '0', '29', '1']\n",
      "\n",
      "\n",
      "Number of rows: 6183\n",
      "Number of columns: 16\n"
     ]
    }
   ],
   "source": [
    "apple_english = []\n",
    "google_english = []\n",
    "\n",
    "for app in apple:\n",
    "    if is_string_english(app[1]):\n",
    "        apple_english.append(app)\n",
    "    \n",
    "for app in google_clean:\n",
    "    if is_string_english(app[0]):\n",
    "        google_english.append(app)\n",
    "        \n",
    "#View results\n",
    "print('Google')\n",
    "explore_data(google_english, 0, 2, True)\n",
    "print('\\n')\n",
    "print('Apple')\n",
    "explore_data(apple_english, 0, 2, True)"
   ]
  },
  {
   "cell_type": "markdown",
   "metadata": {},
   "source": [
    "### Identify Free Apps\n",
    "\n",
    "As mentioned in the introduction, a paid version of my idea already exists on the App Store. I would need to make the app free to compete with the existing app. The data sets contain both free and paid apps. I'll create a subset containing only free apps."
   ]
  },
  {
   "cell_type": "code",
   "execution_count": 43,
   "metadata": {},
   "outputs": [
    {
     "name": "stdout",
     "output_type": "stream",
     "text": [
      "8864\n",
      "3222\n"
     ]
    }
   ],
   "source": [
    "google_final = []\n",
    "apple_final = []\n",
    "\n",
    "for app in google_english:\n",
    "    price = app[7]\n",
    "    if price == '0':\n",
    "        google_final.append(app)\n",
    "        \n",
    "for app in apple_english:\n",
    "    price = app[4]\n",
    "    if price == '0.0':\n",
    "        apple_final.append(app)\n",
    "        \n",
    "print(len(google_final))\n",
    "print(len(apple_final))"
   ]
  },
  {
   "cell_type": "markdown",
   "metadata": {},
   "source": [
    "## Data Analysis\n",
    "\n",
    "### Most Common Genres\n",
    "\n",
    "I have an idea of which genre my app would be. I need to know if that genre is popular enough to attract many users. \n",
    "\n",
    "I'll begin by getting a sense of which are the most common genres for each store. I'll review the header information to get an idea of which indexes contain genre information. "
   ]
  },
  {
   "cell_type": "code",
   "execution_count": 44,
   "metadata": {
    "scrolled": true
   },
   "outputs": [
    {
     "name": "stdout",
     "output_type": "stream",
     "text": [
      "['App', 'Category', 'Rating', 'Reviews', 'Size', 'Installs', 'Type', 'Price', 'Content Rating', 'Genres', 'Last Updated', 'Current Ver', 'Android Ver']\n",
      "\n",
      "\n",
      "['id', 'track_name', 'size_bytes', 'currency', 'price', 'rating_count_tot', 'rating_count_ver', 'user_rating', 'user_rating_ver', 'ver', 'cont_rating', 'prime_genre', 'sup_devices.num', 'ipadSc_urls.num', 'lang.num', 'vpp_lic']\n"
     ]
    }
   ],
   "source": [
    "print(google_header)\n",
    "print('\\n')\n",
    "print (apple_header)"
   ]
  },
  {
   "cell_type": "markdown",
   "metadata": {},
   "source": [
    "The Google data has a 'Category' [1] and 'Genres' [-4] index that may be of interest. The Apple data has a 'prime_genre' [-5] index. \n",
    "\n",
    "To get a better idea of the genre types I'll build two functions.\n",
    "\n",
    "- One function to generate a frequency tables that show percentages stored as a dictionary \n",
    "- Another function  to display the percentages in a descending order, stored as a list"
   ]
  },
  {
   "cell_type": "code",
   "execution_count": 45,
   "metadata": {},
   "outputs": [],
   "source": [
    "def freq_table(list_of_lists, index):\n",
    "    table = {}\n",
    "    total = 0\n",
    "    \n",
    "    for row in list_of_lists:\n",
    "        total += 1\n",
    "        value = row[index]\n",
    "        if value in table:\n",
    "            table[value] += 1\n",
    "        else:\n",
    "            table[value] = 1\n",
    "    \n",
    "    table_percentages = {}\n",
    "    for key in table:\n",
    "        percentage = (table[key] / total) * 100\n",
    "        table_percentages[key] = percentage \n",
    "    \n",
    "    return table_percentages\n",
    "\n",
    "\n",
    "def display_table(list_of_lists, index):\n",
    "    table = freq_table(list_of_lists, index)\n",
    "    table_display = []\n",
    "    for key in table:\n",
    "        key_val_as_tuple = (table[key], key)\n",
    "        table_display.append(key_val_as_tuple)\n",
    "        \n",
    "    table_sorted = sorted(table_display, reverse = True)\n",
    "    for entry in table_sorted:\n",
    "        print(entry[1], ':', entry[0])"
   ]
  },
  {
   "cell_type": "markdown",
   "metadata": {},
   "source": [
    "### Most Common App Store Genres\n",
    "\n",
    "Now I'll use the functions above to analyze the filtered and cleaned App Store and Google Play store data."
   ]
  },
  {
   "cell_type": "code",
   "execution_count": 46,
   "metadata": {
    "scrolled": false
   },
   "outputs": [
    {
     "name": "stdout",
     "output_type": "stream",
     "text": [
      "Games : 58.16263190564867\n",
      "Entertainment : 7.883302296710118\n",
      "Photo & Video : 4.9658597144630665\n",
      "Education : 3.662321539416512\n",
      "Social Networking : 3.2898820608317814\n",
      "Shopping : 2.60707635009311\n",
      "Utilities : 2.5139664804469275\n",
      "Sports : 2.1415270018621975\n",
      "Music : 2.0484171322160147\n",
      "Health & Fitness : 2.0173805090006205\n",
      "Productivity : 1.7380509000620732\n",
      "Lifestyle : 1.5828677839851024\n",
      "News : 1.3345747982619491\n",
      "Travel : 1.2414649286157666\n",
      "Finance : 1.1173184357541899\n",
      "Weather : 0.8690254500310366\n",
      "Food & Drink : 0.8069522036002483\n",
      "Reference : 0.5586592178770949\n",
      "Business : 0.5276225946617008\n",
      "Book : 0.4345127250155183\n",
      "Navigation : 0.186219739292365\n",
      "Medical : 0.186219739292365\n",
      "Catalogs : 0.12414649286157665\n"
     ]
    }
   ],
   "source": [
    "display_table(apple_final, -5)"
   ]
  },
  {
   "cell_type": "markdown",
   "metadata": {},
   "source": [
    "Among free english apps  more than a half (58.16%) are games. Entertainment apps are close to 8%, followed by photo and video apps, which are close to 5%. Only 3.66% of the apps are designed for education, followed by social networking apps which amount for 3.29% of the apps in our data set.\n",
    "\n",
    "In summary, the App Store (at least the part containing free English apps) is dominated by apps that are designed for fun (games, entertainment, photo and video, social networking, sports, music, etc.), while apps with practical purposes (education, shopping, utilities, productivity, lifestyle, etc.) are more rare. However, the fact that fun apps are the most numerous doesn't also imply that they also have the greatest number of users — the demand might not be the same as the supply.\n",
    "\n",
    "Now I'll look at the Google Play store data and decide which index is more helpful 'Category' [1] or 'Genres' [-4]."
   ]
  },
  {
   "cell_type": "code",
   "execution_count": 47,
   "metadata": {},
   "outputs": [
    {
     "name": "stdout",
     "output_type": "stream",
     "text": [
      "Google Play Store 'Category' Data\n",
      "\n",
      "\n",
      "FAMILY : 18.907942238267147\n",
      "GAME : 9.724729241877256\n",
      "TOOLS : 8.461191335740072\n",
      "BUSINESS : 4.591606498194946\n",
      "LIFESTYLE : 3.9034296028880866\n",
      "PRODUCTIVITY : 3.892148014440433\n",
      "FINANCE : 3.7003610108303246\n",
      "MEDICAL : 3.531137184115524\n",
      "SPORTS : 3.395758122743682\n",
      "PERSONALIZATION : 3.3167870036101084\n",
      "COMMUNICATION : 3.2378158844765346\n",
      "HEALTH_AND_FITNESS : 3.0798736462093865\n",
      "PHOTOGRAPHY : 2.944494584837545\n",
      "NEWS_AND_MAGAZINES : 2.7978339350180503\n",
      "SOCIAL : 2.6624548736462095\n",
      "TRAVEL_AND_LOCAL : 2.33528880866426\n",
      "SHOPPING : 2.2450361010830324\n",
      "BOOKS_AND_REFERENCE : 2.1435018050541514\n",
      "DATING : 1.861462093862816\n",
      "VIDEO_PLAYERS : 1.7937725631768955\n",
      "MAPS_AND_NAVIGATION : 1.3989169675090252\n",
      "FOOD_AND_DRINK : 1.2409747292418771\n",
      "EDUCATION : 1.1620036101083033\n",
      "ENTERTAINMENT : 0.9589350180505415\n",
      "LIBRARIES_AND_DEMO : 0.9363718411552346\n",
      "AUTO_AND_VEHICLES : 0.9250902527075812\n",
      "HOUSE_AND_HOME : 0.8235559566787004\n",
      "WEATHER : 0.8009927797833934\n",
      "EVENTS : 0.7107400722021661\n",
      "PARENTING : 0.6543321299638989\n",
      "ART_AND_DESIGN : 0.6430505415162455\n",
      "COMICS : 0.6204873646209386\n",
      "BEAUTY : 0.5979241877256317\n"
     ]
    }
   ],
   "source": [
    "print(\"Google Play Store 'Category' Data\")\n",
    "print('\\n')\n",
    "display_table(google_final, 1)"
   ]
  },
  {
   "cell_type": "code",
   "execution_count": 48,
   "metadata": {},
   "outputs": [
    {
     "name": "stdout",
     "output_type": "stream",
     "text": [
      "Google Play Store 'Genres' Data\n",
      "\n",
      "\n",
      "Tools : 8.449909747292418\n",
      "Entertainment : 6.069494584837545\n",
      "Education : 5.347472924187725\n",
      "Business : 4.591606498194946\n",
      "Productivity : 3.892148014440433\n",
      "Lifestyle : 3.892148014440433\n",
      "Finance : 3.7003610108303246\n",
      "Medical : 3.531137184115524\n",
      "Sports : 3.463447653429603\n",
      "Personalization : 3.3167870036101084\n",
      "Communication : 3.2378158844765346\n",
      "Action : 3.1024368231046933\n",
      "Health & Fitness : 3.0798736462093865\n",
      "Photography : 2.944494584837545\n",
      "News & Magazines : 2.7978339350180503\n",
      "Social : 2.6624548736462095\n",
      "Travel & Local : 2.3240072202166067\n",
      "Shopping : 2.2450361010830324\n",
      "Books & Reference : 2.1435018050541514\n",
      "Simulation : 2.0419675090252705\n",
      "Dating : 1.861462093862816\n",
      "Arcade : 1.8501805054151623\n",
      "Video Players & Editors : 1.7712093862815883\n",
      "Casual : 1.7599277978339352\n",
      "Maps & Navigation : 1.3989169675090252\n",
      "Food & Drink : 1.2409747292418771\n",
      "Puzzle : 1.128158844765343\n",
      "Racing : 0.9927797833935018\n",
      "Role Playing : 0.9363718411552346\n",
      "Libraries & Demo : 0.9363718411552346\n",
      "Auto & Vehicles : 0.9250902527075812\n",
      "Strategy : 0.9138086642599278\n",
      "House & Home : 0.8235559566787004\n",
      "Weather : 0.8009927797833934\n",
      "Events : 0.7107400722021661\n",
      "Adventure : 0.6768953068592057\n",
      "Comics : 0.6092057761732852\n",
      "Beauty : 0.5979241877256317\n",
      "Art & Design : 0.5979241877256317\n",
      "Parenting : 0.4963898916967509\n",
      "Card : 0.45126353790613716\n",
      "Casino : 0.42870036101083037\n",
      "Trivia : 0.41741877256317694\n",
      "Educational;Education : 0.39485559566787\n",
      "Board : 0.3835740072202166\n",
      "Educational : 0.3722924187725632\n",
      "Education;Education : 0.33844765342960287\n",
      "Word : 0.2594765342960289\n",
      "Casual;Pretend Play : 0.236913357400722\n",
      "Music : 0.2030685920577617\n",
      "Racing;Action & Adventure : 0.16922382671480143\n",
      "Puzzle;Brain Games : 0.16922382671480143\n",
      "Entertainment;Music & Video : 0.16922382671480143\n",
      "Casual;Brain Games : 0.13537906137184114\n",
      "Casual;Action & Adventure : 0.13537906137184114\n",
      "Arcade;Action & Adventure : 0.12409747292418773\n",
      "Action;Action & Adventure : 0.10153429602888085\n",
      "Educational;Pretend Play : 0.09025270758122744\n",
      "Simulation;Action & Adventure : 0.078971119133574\n",
      "Parenting;Education : 0.078971119133574\n",
      "Entertainment;Brain Games : 0.078971119133574\n",
      "Board;Brain Games : 0.078971119133574\n",
      "Parenting;Music & Video : 0.06768953068592057\n",
      "Educational;Brain Games : 0.06768953068592057\n",
      "Casual;Creativity : 0.06768953068592057\n",
      "Art & Design;Creativity : 0.06768953068592057\n",
      "Education;Pretend Play : 0.056407942238267145\n",
      "Role Playing;Pretend Play : 0.04512635379061372\n",
      "Education;Creativity : 0.04512635379061372\n",
      "Role Playing;Action & Adventure : 0.033844765342960284\n",
      "Puzzle;Action & Adventure : 0.033844765342960284\n",
      "Entertainment;Creativity : 0.033844765342960284\n",
      "Entertainment;Action & Adventure : 0.033844765342960284\n",
      "Educational;Creativity : 0.033844765342960284\n",
      "Educational;Action & Adventure : 0.033844765342960284\n",
      "Education;Music & Video : 0.033844765342960284\n",
      "Education;Brain Games : 0.033844765342960284\n",
      "Education;Action & Adventure : 0.033844765342960284\n",
      "Adventure;Action & Adventure : 0.033844765342960284\n",
      "Video Players & Editors;Music & Video : 0.02256317689530686\n",
      "Sports;Action & Adventure : 0.02256317689530686\n",
      "Simulation;Pretend Play : 0.02256317689530686\n",
      "Puzzle;Creativity : 0.02256317689530686\n",
      "Music;Music & Video : 0.02256317689530686\n",
      "Entertainment;Pretend Play : 0.02256317689530686\n",
      "Casual;Education : 0.02256317689530686\n",
      "Board;Action & Adventure : 0.02256317689530686\n",
      "Video Players & Editors;Creativity : 0.01128158844765343\n",
      "Trivia;Education : 0.01128158844765343\n",
      "Travel & Local;Action & Adventure : 0.01128158844765343\n",
      "Tools;Education : 0.01128158844765343\n",
      "Strategy;Education : 0.01128158844765343\n",
      "Strategy;Creativity : 0.01128158844765343\n",
      "Strategy;Action & Adventure : 0.01128158844765343\n",
      "Simulation;Education : 0.01128158844765343\n",
      "Role Playing;Brain Games : 0.01128158844765343\n",
      "Racing;Pretend Play : 0.01128158844765343\n",
      "Puzzle;Education : 0.01128158844765343\n",
      "Parenting;Brain Games : 0.01128158844765343\n",
      "Music & Audio;Music & Video : 0.01128158844765343\n",
      "Lifestyle;Pretend Play : 0.01128158844765343\n",
      "Lifestyle;Education : 0.01128158844765343\n",
      "Health & Fitness;Education : 0.01128158844765343\n",
      "Health & Fitness;Action & Adventure : 0.01128158844765343\n",
      "Entertainment;Education : 0.01128158844765343\n",
      "Communication;Creativity : 0.01128158844765343\n",
      "Comics;Creativity : 0.01128158844765343\n",
      "Casual;Music & Video : 0.01128158844765343\n",
      "Card;Action & Adventure : 0.01128158844765343\n",
      "Books & Reference;Education : 0.01128158844765343\n",
      "Art & Design;Pretend Play : 0.01128158844765343\n",
      "Art & Design;Action & Adventure : 0.01128158844765343\n",
      "Arcade;Pretend Play : 0.01128158844765343\n",
      "Adventure;Education : 0.01128158844765343\n"
     ]
    }
   ],
   "source": [
    "print(\"Google Play Store 'Genres' Data\")\n",
    "print('\\n')\n",
    "display_table(google_final, -4)"
   ]
  },
  {
   "cell_type": "markdown",
   "metadata": {},
   "source": [
    "The 'Genere' data appears to be more granular than the 'Category' data. It has a longer output, and therefore more options/divisions of the data. It may be best to use the 'Category' data to compare to the Apple App store. \n",
    "\n",
    "Despite the name, there does not seem to be as many apps for fun on the Google Play store (again, only considering free and English apps). Family, Games, Tools, and Business round out the top four categories. Tools, Entertainment, Education, and Business are the top four genres.\n",
    "\n",
    "Taking another look at the Play Store category data and comparing it the the App Store data we see that the Family category is unique to the Google Play store and the most common type of app. A quick visit to the Play Store and it is apparent that the Family category is mostly games for children. \n",
    "\n",
    "My initial analysis suggests that of the free english apps on the App Store and Play Store fun apps are the most common, or apps that are categorized as Family, Games, or Entertainment, depending on the store.\n",
    "\n",
    "Again, I still can't say much about which apps have the most number of users and will therefore be the most profitable in an ad generating business model. Supply of fun apps on the app store does not necessarily mean there is a huge demand for them. Next I'll determine which genres have the most users. \n",
    "\n",
    "### Most Popular Apps by Genre on the App Store\n",
    " \n",
    "One way to find out what types of apps are the most popular is to determine which genres have the most users. This is easily done by calculating the average number of installs for each app genre. The Google Play data set, has the number of installs in the Installs column. The App Store data set is missing this information. I'll use the total number of user ratings as a proxy. \n",
    "\n",
    "Below I calculate the average number of user ratings per app genre on the App Store:"
   ]
  },
  {
   "cell_type": "code",
   "execution_count": 49,
   "metadata": {},
   "outputs": [
    {
     "name": "stdout",
     "output_type": "stream",
     "text": [
      "Social Networking : 71548.34905660378\n",
      "Photo & Video : 28441.54375\n",
      "Games : 22788.6696905016\n",
      "Music : 57326.530303030304\n",
      "Reference : 74942.11111111111\n",
      "Health & Fitness : 23298.015384615384\n",
      "Weather : 52279.892857142855\n",
      "Utilities : 18684.456790123455\n",
      "Travel : 28243.8\n",
      "Shopping : 26919.690476190477\n",
      "News : 21248.023255813954\n",
      "Navigation : 86090.33333333333\n",
      "Lifestyle : 16485.764705882353\n",
      "Entertainment : 14029.830708661417\n",
      "Food & Drink : 33333.92307692308\n",
      "Sports : 23008.898550724636\n",
      "Book : 39758.5\n",
      "Finance : 31467.944444444445\n",
      "Education : 7003.983050847458\n",
      "Productivity : 21028.410714285714\n",
      "Business : 7491.117647058823\n",
      "Catalogs : 4004.0\n",
      "Medical : 612.0\n"
     ]
    }
   ],
   "source": [
    "apple_genres = freq_table(apple_final,-5)\n",
    "\n",
    "\n",
    "for genre in apple_genres:\n",
    "    total = 0\n",
    "    len_genre = 0\n",
    "    for app in apple_final:\n",
    "        genre_app = app[-5]\n",
    "        if genre_app == genre:\n",
    "            n_ratings = float(app[5])\n",
    "            total += n_ratings\n",
    "            len_genre +=1\n",
    "    n_avg_ratings = total/len_genre\n",
    "    print(genre, ':', n_avg_ratings)"
   ]
  },
  {
   "cell_type": "markdown",
   "metadata": {},
   "source": [
    "Reference 74k, Social Networking 71K, Weather 52K, Music 57k, seem to have the highest number of ratings per app, and therefore likely have the most installs.\n",
    "\n",
    "Weather and Music will likely have costs and fees associated with obtaining weather data or music licensing. So while these genres are popular I wouldn't build this type of app. \n",
    "\n",
    "Below I'll print the Social Networking genre apps and the number of reviews."
   ]
  },
  {
   "cell_type": "code",
   "execution_count": 50,
   "metadata": {},
   "outputs": [
    {
     "name": "stdout",
     "output_type": "stream",
     "text": [
      "Facebook : 2974676\n",
      "Pinterest : 1061624\n",
      "Skype for iPhone : 373519\n",
      "Messenger : 351466\n",
      "Tumblr : 334293\n",
      "WhatsApp Messenger : 287589\n",
      "Kik : 260965\n",
      "ooVoo – Free Video Call, Text and Voice : 177501\n",
      "TextNow - Unlimited Text + Calls : 164963\n",
      "Viber Messenger – Text & Call : 164249\n",
      "Followers - Social Analytics For Instagram : 112778\n",
      "MeetMe - Chat and Meet New People : 97072\n",
      "We Heart It - Fashion, wallpapers, quotes, tattoos : 90414\n",
      "InsTrack for Instagram - Analytics Plus More : 85535\n",
      "Tango - Free Video Call, Voice and Chat : 75412\n",
      "LinkedIn : 71856\n",
      "Match™ - #1 Dating App. : 60659\n",
      "Skype for iPad : 60163\n",
      "POF - Best Dating App for Conversations : 52642\n",
      "Timehop : 49510\n",
      "Find My Family, Friends & iPhone - Life360 Locator : 43877\n",
      "Whisper - Share, Express, Meet : 39819\n",
      "Hangouts : 36404\n",
      "LINE PLAY - Your Avatar World : 34677\n",
      "WeChat : 34584\n",
      "Badoo - Meet New People, Chat, Socialize. : 34428\n",
      "Followers + for Instagram - Follower Analytics : 28633\n",
      "GroupMe : 28260\n",
      "Marco Polo Video Walkie Talkie : 27662\n",
      "Miitomo : 23965\n",
      "SimSimi : 23530\n",
      "Grindr - Gay and same sex guys chat, meet and date : 23201\n",
      "Wishbone - Compare Anything : 20649\n",
      "imo video calls and chat : 18841\n",
      "After School - Funny Anonymous School News : 18482\n",
      "Quick Reposter - Repost, Regram and Reshare Photos : 17694\n",
      "Weibo HD : 16772\n",
      "Repost for Instagram : 15185\n",
      "Live.me – Live Video Chat & Make Friends Nearby : 14724\n",
      "Nextdoor : 14402\n",
      "Followers Analytics for Instagram - InstaReport : 13914\n",
      "YouNow: Live Stream Video Chat : 12079\n",
      "FollowMeter for Instagram - Followers Tracking : 11976\n",
      "LINE : 11437\n",
      "eHarmony™ Dating App - Meet Singles : 11124\n",
      "Discord - Chat for Gamers : 9152\n",
      "QQ : 9109\n",
      "Telegram Messenger : 7573\n",
      "Weibo : 7265\n",
      "Periscope - Live Video Streaming Around the World : 6062\n",
      "Chat for Whatsapp - iPad Version : 5060\n",
      "QQ HD : 5058\n",
      "Followers Analysis Tool For Instagram App Free : 4253\n",
      "live.ly - live video streaming : 4145\n",
      "Houseparty - Group Video Chat : 3991\n",
      "SOMA Messenger : 3232\n",
      "Monkey : 3060\n",
      "Down To Lunch : 2535\n",
      "Flinch - Video Chat Staring Contest : 2134\n",
      "Highrise - Your Avatar Community : 2011\n",
      "LOVOO - Dating Chat : 1985\n",
      "PlayStation®Messages : 1918\n",
      "BOO! - Video chat camera with filters & stickers : 1805\n",
      "Qzone : 1649\n",
      "Chatous - Chat with new people : 1609\n",
      "Kiwi - Q&A : 1538\n",
      "GhostCodes - a discovery app for Snapchat : 1313\n",
      "Jodel : 1193\n",
      "FireChat : 1037\n",
      "Google Duo - simple video calling : 1033\n",
      "Fiesta by Tango - Chat & Meet New People : 885\n",
      "Google Allo — smart messaging : 862\n",
      "Peach — share vividly : 727\n",
      "Hey! VINA - Where Women Meet New Friends : 719\n",
      "Battlefield™ Companion : 689\n",
      "All Devices for WhatsApp - Messenger for iPad : 682\n",
      "Chat for Pokemon Go - GoChat : 500\n",
      "IAmNaughty – Dating App to Meet New People Online : 463\n",
      "Qzone HD : 458\n",
      "Zenly - Locate your friends in realtime : 427\n",
      "League of Legends Friends : 420\n",
      "豆瓣 : 407\n",
      "Candid - Speak Your Mind Freely : 398\n",
      "知乎 : 397\n",
      "Selfeo : 366\n",
      "Fake-A-Location Free ™ : 354\n",
      "Popcorn Buzz - Free Group Calls : 281\n",
      "Fam — Group video calling for iMessage : 279\n",
      "QQ International : 274\n",
      "Ameba : 269\n",
      "SoundCloud Pulse: for creators : 240\n",
      "Tantan : 235\n",
      "Cougar Dating & Life Style App for Mature Women : 213\n",
      "Rawr Messenger - Dab your chat : 180\n",
      "WhenToPost: Best Time to Post Photos for Instagram : 158\n",
      "Inke—Broadcast an amazing life : 147\n",
      "Mustknow - anonymous video Q&A : 53\n",
      "CTFxCmoji : 39\n",
      "Lobi : 36\n",
      "Chain: Collaborate On MyVideo Story/Group Video : 35\n",
      "botman - Real time video chat : 7\n",
      "BestieBox : 0\n",
      "MATCH ON LINE chat : 0\n",
      "niconico ch : 0\n",
      "LINE BLOG : 0\n",
      "bit-tube - Live Stream Video Chat : 0\n"
     ]
    }
   ],
   "source": [
    "for app in apple_final:\n",
    "    if app[-5] == 'Social Networking':\n",
    "        print(app[1], ':', app[5])"
   ]
  },
  {
   "cell_type": "markdown",
   "metadata": {},
   "source": [
    "Facebook is the most reviewed app with almost 3 million reviews. The number three app is Skype with less than 400k reviews. Facebook is clearly an outlier and likely skewing the averages for the whole genre making it seem like the genre is more popular than it really is.\n",
    "\n",
    "Let's look at the Reference genre. Below I'll print the Reference genre apps and the number of reviews."
   ]
  },
  {
   "cell_type": "code",
   "execution_count": 51,
   "metadata": {},
   "outputs": [
    {
     "name": "stdout",
     "output_type": "stream",
     "text": [
      "Bible : 985920\n",
      "Dictionary.com Dictionary & Thesaurus : 200047\n",
      "Dictionary.com Dictionary & Thesaurus for iPad : 54175\n",
      "Google Translate : 26786\n",
      "Muslim Pro: Ramadan 2017 Prayer Times, Azan, Quran : 18418\n",
      "New Furniture Mods - Pocket Wiki & Game Tools for Minecraft PC Edition : 17588\n",
      "Merriam-Webster Dictionary : 16849\n",
      "Night Sky : 12122\n",
      "City Maps for Minecraft PE - The Best Maps for Minecraft Pocket Edition (MCPE) : 8535\n",
      "LUCKY BLOCK MOD ™ for Minecraft PC Edition - The Best Pocket Wiki & Mods Installer Tools : 4693\n",
      "GUNS MODS for Minecraft PC Edition - Mods Tools : 1497\n",
      "Guides for Pokémon GO - Pokemon GO News and Cheats : 826\n",
      "WWDC : 762\n",
      "Horror Maps for Minecraft PE - Download The Scariest Maps for Minecraft Pocket Edition (MCPE) Free : 718\n",
      "VPN Express : 14\n",
      "Real Bike Traffic Rider Virtual Reality Glasses : 8\n",
      "教えて!goo : 0\n",
      "Jishokun-Japanese English Dictionary & Translator : 0\n"
     ]
    }
   ],
   "source": [
    "for app in apple_final:\n",
    "    if app[-5] == 'Reference':\n",
    "        print(app[1], ':', app[5])"
   ]
  },
  {
   "cell_type": "markdown",
   "metadata": {},
   "source": [
    "While the Bible and Dictionary.com skew the averages higher in this genre, this niche seems to show some potential. A reference app is more simple than a social networking app, and therefore costs less to build. \n",
    "\n",
    "Furthermore, a practical app might have more of a chance to stand out among the huge number of apps on the App Store. Which I've shown is largely dominated by for fun apps. \n",
    "\n",
    "Let's take a look at the Google Play store\n",
    "\n",
    "### Most Popular Apps by Genre on the Google Play Store\n",
    "For the Google Play market, the data set has data on the number of installs, so I should be able to get a clearer picture about genre popularity. However, the install numbers are not precise because they are open-ended (100+, 1,000+, 5,000+, etc.):"
   ]
  },
  {
   "cell_type": "code",
   "execution_count": 52,
   "metadata": {
    "scrolled": false
   },
   "outputs": [
    {
     "name": "stdout",
     "output_type": "stream",
     "text": [
      "1,000,000+ : 15.726534296028879\n",
      "100,000+ : 11.552346570397113\n",
      "10,000,000+ : 10.548285198555957\n",
      "10,000+ : 10.198555956678701\n",
      "1,000+ : 8.393501805054152\n",
      "100+ : 6.915613718411552\n",
      "5,000,000+ : 6.825361010830325\n",
      "500,000+ : 5.561823104693141\n",
      "50,000+ : 4.7721119133574\n",
      "5,000+ : 4.512635379061372\n",
      "10+ : 3.5424187725631766\n",
      "500+ : 3.2490974729241873\n",
      "50,000,000+ : 2.3014440433213\n",
      "100,000,000+ : 2.1322202166064983\n",
      "50+ : 1.917870036101083\n",
      "5+ : 0.78971119133574\n",
      "1+ : 0.5076714801444043\n",
      "500,000,000+ : 0.2707581227436823\n",
      "1,000,000,000+ : 0.22563176895306858\n",
      "0+ : 0.04512635379061372\n",
      "0 : 0.01128158844765343\n"
     ]
    }
   ],
   "source": [
    "display_table(google_final, 5)"
   ]
  },
  {
   "cell_type": "markdown",
   "metadata": {},
   "source": [
    "However, I only want to get an idea which app genres attract the most users, and I don't need perfect precision with respect to the number of users.\n",
    "\n",
    "Therefore, I'll  leave the numbers as they are, which means an app with 100,000+ installs has 100,000 installs, and an app with 1,000,000+ installs has 1,000,000 installs, and so on.\n",
    "\n",
    "In the loop below, I'll  convert each install number to float, and compute the average number of installs for each genre (category)."
   ]
  },
  {
   "cell_type": "code",
   "execution_count": 53,
   "metadata": {},
   "outputs": [
    {
     "name": "stdout",
     "output_type": "stream",
     "text": [
      "ART_AND_DESIGN : 1986335.0877192982\n",
      "AUTO_AND_VEHICLES : 647317.8170731707\n",
      "BEAUTY : 513151.88679245283\n",
      "BOOKS_AND_REFERENCE : 8767811.894736841\n",
      "BUSINESS : 1712290.1474201474\n",
      "COMICS : 817657.2727272727\n",
      "COMMUNICATION : 38456119.167247385\n",
      "DATING : 854028.8303030303\n",
      "EDUCATION : 1833495.145631068\n",
      "ENTERTAINMENT : 11640705.88235294\n",
      "EVENTS : 253542.22222222222\n",
      "FINANCE : 1387692.475609756\n",
      "FOOD_AND_DRINK : 1924897.7363636363\n",
      "HEALTH_AND_FITNESS : 4188821.9853479853\n",
      "HOUSE_AND_HOME : 1331540.5616438356\n",
      "LIBRARIES_AND_DEMO : 638503.734939759\n",
      "LIFESTYLE : 1437816.2687861272\n",
      "GAME : 15588015.603248259\n",
      "FAMILY : 3695641.8198090694\n",
      "MEDICAL : 120550.61980830671\n",
      "SOCIAL : 23253652.127118643\n",
      "SHOPPING : 7036877.311557789\n",
      "PHOTOGRAPHY : 17840110.40229885\n",
      "SPORTS : 3638640.1428571427\n",
      "TRAVEL_AND_LOCAL : 13984077.710144928\n",
      "TOOLS : 10801391.298666667\n",
      "PERSONALIZATION : 5201482.6122448975\n",
      "PRODUCTIVITY : 16787331.344927534\n",
      "PARENTING : 542603.6206896552\n",
      "WEATHER : 5074486.197183099\n",
      "VIDEO_PLAYERS : 24727872.452830188\n",
      "NEWS_AND_MAGAZINES : 9549178.467741935\n",
      "MAPS_AND_NAVIGATION : 4056941.7741935486\n"
     ]
    }
   ],
   "source": [
    "google_categories = freq_table(google_final, 1)\n",
    "\n",
    "for category in google_categories:\n",
    "    total = 0\n",
    "    len_category = 0\n",
    "    for app in google_final:\n",
    "        category_app = app[1]\n",
    "        if category_app == category:            \n",
    "            n_installs = app[5]\n",
    "            n_installs = n_installs.replace(',', '')\n",
    "            n_installs = n_installs.replace('+', '')\n",
    "            total += float(n_installs)\n",
    "            len_category += 1\n",
    "    avg_n_installs = total / len_category\n",
    "    print(category, ':', avg_n_installs)"
   ]
  },
  {
   "cell_type": "markdown",
   "metadata": {},
   "source": [
    "Communication apps have, on average, the most instals; around 38 million. This number is heavily skewed up by a few apps that have over one billion installs (WhatsApp, Facebook Messenger, Skype, Google Chrome, Gmail, and Hangouts)."
   ]
  },
  {
   "cell_type": "code",
   "execution_count": 54,
   "metadata": {},
   "outputs": [
    {
     "name": "stdout",
     "output_type": "stream",
     "text": [
      "WhatsApp Messenger : 1,000,000,000+\n",
      "imo beta free calls and text : 100,000,000+\n",
      "Android Messages : 100,000,000+\n",
      "Google Duo - High Quality Video Calls : 500,000,000+\n",
      "Messenger – Text and Video Chat for Free : 1,000,000,000+\n",
      "imo free video calls and chat : 500,000,000+\n",
      "Skype - free IM & video calls : 1,000,000,000+\n",
      "Who : 100,000,000+\n",
      "GO SMS Pro - Messenger, Free Themes, Emoji : 100,000,000+\n",
      "LINE: Free Calls & Messages : 500,000,000+\n",
      "Google Chrome: Fast & Secure : 1,000,000,000+\n",
      "Firefox Browser fast & private : 100,000,000+\n",
      "UC Browser - Fast Download Private & Secure : 500,000,000+\n",
      "Gmail : 1,000,000,000+\n",
      "Hangouts : 1,000,000,000+\n",
      "Messenger Lite: Free Calls & Messages : 100,000,000+\n",
      "Kik : 100,000,000+\n",
      "KakaoTalk: Free Calls & Text : 100,000,000+\n",
      "Opera Mini - fast web browser : 100,000,000+\n",
      "Opera Browser: Fast and Secure : 100,000,000+\n",
      "Telegram : 100,000,000+\n",
      "Truecaller: Caller ID, SMS spam blocking & Dialer : 100,000,000+\n",
      "UC Browser Mini -Tiny Fast Private & Secure : 100,000,000+\n",
      "Viber Messenger : 500,000,000+\n",
      "WeChat : 100,000,000+\n",
      "Yahoo Mail – Stay Organized : 100,000,000+\n",
      "BBM - Free Calls & Messages : 100,000,000+\n"
     ]
    }
   ],
   "source": [
    "for app in google_final:\n",
    "    if app[1] == 'COMMUNICATION' and (app[5] == '1,000,000,000+'\n",
    "                                      or app[5] == '500,000,000+'\n",
    "                                      or app[5] == '100,000,000+'):\n",
    "        print(app[0], ':', app[5])"
   ]
  },
  {
   "cell_type": "markdown",
   "metadata": {},
   "source": [
    "This skew pattern is repeated for social apps (where we have giants like Facebook, Instagram, Google+, etc.), photography apps (Google Photos and other popular photo editors), and productivity apps (Microsoft Word, Dropbox, Google Calendar, Evernote, etc.).\n",
    "\n",
    "Again, the main concern is that these app genres might seem more popular than they really are. Moreover, these niches seem to be dominated by a few giants who are hard to compete against.\n",
    "\n",
    "The Game and Family categories seem pretty popular, but previously we found out the Family category is young children games and the apps for fun market seems a bit saturated, so I'd stay clear of these categories as well. \n",
    "\n",
    "The Books and Reference category is fairly popular with around 8.7 million downloads and was very popular on the App Store. I'll take a look at some of the apps from this genre and their number of installs:"
   ]
  },
  {
   "cell_type": "code",
   "execution_count": 55,
   "metadata": {},
   "outputs": [
    {
     "name": "stdout",
     "output_type": "stream",
     "text": [
      "E-Book Read - Read Book for free : 50,000+\n",
      "Download free book with green book : 100,000+\n",
      "Wikipedia : 10,000,000+\n",
      "Cool Reader : 10,000,000+\n",
      "Free Panda Radio Music : 100,000+\n",
      "Book store : 1,000,000+\n",
      "FBReader: Favorite Book Reader : 10,000,000+\n",
      "English Grammar Complete Handbook : 500,000+\n",
      "Free Books - Spirit Fanfiction and Stories : 1,000,000+\n",
      "Google Play Books : 1,000,000,000+\n",
      "AlReader -any text book reader : 5,000,000+\n",
      "Offline English Dictionary : 100,000+\n",
      "Offline: English to Tagalog Dictionary : 500,000+\n",
      "FamilySearch Tree : 1,000,000+\n",
      "Cloud of Books : 1,000,000+\n",
      "Recipes of Prophetic Medicine for free : 500,000+\n",
      "ReadEra – free ebook reader : 1,000,000+\n",
      "Anonymous caller detection : 10,000+\n",
      "Ebook Reader : 5,000,000+\n",
      "Litnet - E-books : 100,000+\n",
      "Read books online : 5,000,000+\n",
      "English to Urdu Dictionary : 500,000+\n",
      "eBoox: book reader fb2 epub zip : 1,000,000+\n",
      "English Persian Dictionary : 500,000+\n",
      "Flybook : 500,000+\n",
      "All Maths Formulas : 1,000,000+\n",
      "Ancestry : 5,000,000+\n",
      "HTC Help : 10,000,000+\n",
      "English translation from Bengali : 100,000+\n",
      "Pdf Book Download - Read Pdf Book : 100,000+\n",
      "Free Book Reader : 100,000+\n",
      "eBoox new: Reader for fb2 epub zip books : 50,000+\n",
      "Only 30 days in English, the guideline is guaranteed : 500,000+\n",
      "Moon+ Reader : 10,000,000+\n",
      "SH-02J Owner's Manual (Android 8.0) : 50,000+\n",
      "English-Myanmar Dictionary : 1,000,000+\n",
      "Golden Dictionary (EN-AR) : 1,000,000+\n",
      "All Language Translator Free : 1,000,000+\n",
      "Azpen eReader : 500,000+\n",
      "URBANO V 02 instruction manual : 100,000+\n",
      "Bible : 100,000,000+\n",
      "C Programs and Reference : 50,000+\n",
      "C Offline Tutorial : 1,000+\n",
      "C Programs Handbook : 50,000+\n",
      "Amazon Kindle : 100,000,000+\n",
      "Aab e Hayat Full Novel : 100,000+\n",
      "Aldiko Book Reader : 10,000,000+\n",
      "Google I/O 2018 : 500,000+\n",
      "R Language Reference Guide : 10,000+\n",
      "Learn R Programming Full : 5,000+\n",
      "R Programing Offline Tutorial : 1,000+\n",
      "Guide for R Programming : 5+\n",
      "Learn R Programming : 10+\n",
      "R Quick Reference Big Data : 1,000+\n",
      "V Made : 100,000+\n",
      "Wattpad 📖 Free Books : 100,000,000+\n",
      "Dictionary - WordWeb : 5,000,000+\n",
      "Guide (for X-MEN) : 100,000+\n",
      "AC Air condition Troubleshoot,Repair,Maintenance : 5,000+\n",
      "AE Bulletins : 1,000+\n",
      "Ae Allah na Dai (Rasa) : 10,000+\n",
      "50000 Free eBooks & Free AudioBooks : 5,000,000+\n",
      "Ag PhD Field Guide : 10,000+\n",
      "Ag PhD Deficiencies : 10,000+\n",
      "Ag PhD Planting Population Calculator : 1,000+\n",
      "Ag PhD Soybean Diseases : 1,000+\n",
      "Fertilizer Removal By Crop : 50,000+\n",
      "A-J Media Vault : 50+\n",
      "Al-Quran (Free) : 10,000,000+\n",
      "Al Quran (Tafsir & by Word) : 500,000+\n",
      "Al Quran Indonesia : 10,000,000+\n",
      "Al'Quran Bahasa Indonesia : 10,000,000+\n",
      "Al Quran Al karim : 1,000,000+\n",
      "Al-Muhaffiz : 50,000+\n",
      "Al Quran : EAlim - Translations & MP3 Offline : 5,000,000+\n",
      "Al-Quran 30 Juz free copies : 500,000+\n",
      "Koran Read &MP3 30 Juz Offline : 1,000,000+\n",
      "Hafizi Quran 15 lines per page : 1,000,000+\n",
      "Quran for Android : 10,000,000+\n",
      "Surah Al-Waqiah : 100,000+\n",
      "Hisnul Al Muslim - Hisn Invocations & Adhkaar : 100,000+\n",
      "Satellite AR : 1,000,000+\n",
      "Audiobooks from Audible : 100,000,000+\n",
      "Kinot & Eichah for Tisha B'Av : 10,000+\n",
      "AW Tozer Devotionals - Daily : 5,000+\n",
      "Tozer Devotional -Series 1 : 1,000+\n",
      "The Pursuit of God : 1,000+\n",
      "AY Sing : 5,000+\n",
      "Ay Hasnain k Nana Milad Naat : 10,000+\n",
      "Ay Mohabbat Teri Khatir Novel : 10,000+\n",
      "Arizona Statutes, ARS (AZ Law) : 1,000+\n",
      "Oxford A-Z of English Usage : 1,000,000+\n",
      "BD Fishpedia : 1,000+\n",
      "BD All Sim Offer : 10,000+\n",
      "Youboox - Livres, BD et magazines : 500,000+\n",
      "B&H Kids AR : 10,000+\n",
      "B y H Niños ES : 5,000+\n",
      "Dictionary.com: Find Definitions for English Words : 10,000,000+\n",
      "English Dictionary - Offline : 10,000,000+\n",
      "Bible KJV : 5,000,000+\n",
      "Borneo Bible, BM Bible : 10,000+\n",
      "MOD Black for BM : 100+\n",
      "BM Box : 1,000+\n",
      "Anime Mod for BM : 100+\n",
      "NOOK: Read eBooks & Magazines : 10,000,000+\n",
      "NOOK Audiobooks : 500,000+\n",
      "NOOK App for NOOK Devices : 500,000+\n",
      "Browsery by Barnes & Noble : 5,000+\n",
      "bp e-store : 1,000+\n",
      "Brilliant Quotes: Life, Love, Family & Motivation : 1,000,000+\n",
      "BR Ambedkar Biography & Quotes : 10,000+\n",
      "BU Alsace : 100+\n",
      "Catholic La Bu Zo Kam : 500+\n",
      "Khrifa Hla Bu (Solfa) : 10+\n",
      "Kristian Hla Bu : 10,000+\n",
      "SA HLA BU : 1,000+\n",
      "Learn SAP BW : 500+\n",
      "Learn SAP BW on HANA : 500+\n",
      "CA Laws 2018 (California Laws and Codes) : 5,000+\n",
      "Bootable Methods(USB-CD-DVD) : 10,000+\n",
      "cloudLibrary : 100,000+\n",
      "SDA Collegiate Quarterly : 500+\n",
      "Sabbath School : 100,000+\n",
      "Cypress College Library : 100+\n",
      "Stats Royale for Clash Royale : 1,000,000+\n",
      "GATE 21 years CS Papers(2011-2018 Solved) : 50+\n",
      "Learn CT Scan Of Head : 5,000+\n",
      "Easy Cv maker 2018 : 10,000+\n",
      "How to Write CV : 100,000+\n",
      "CW Nuclear : 1,000+\n",
      "CY Spray nozzle : 10+\n",
      "BibleRead En Cy Zh Yue : 5+\n",
      "CZ-Help : 5+\n",
      "Modlitební knížka CZ : 500+\n",
      "Guide for DB Xenoverse : 10,000+\n",
      "Guide for DB Xenoverse 2 : 10,000+\n",
      "Guide for IMS DB : 10+\n",
      "DC HSEMA : 5,000+\n",
      "DC Public Library : 1,000+\n",
      "Painting Lulu DC Super Friends : 1,000+\n",
      "Dictionary : 10,000,000+\n",
      "Fix Error Google Playstore : 1,000+\n",
      "D. H. Lawrence Poems FREE : 1,000+\n",
      "Bilingual Dictionary Audio App : 5,000+\n",
      "DM Screen : 10,000+\n",
      "wikiHow: how to do anything : 1,000,000+\n",
      "Dr. Doug's Tips : 1,000+\n",
      "Bible du Semeur-BDS (French) : 50,000+\n",
      "La citadelle du musulman : 50,000+\n",
      "DV 2019 Entry Guide : 10,000+\n",
      "DV 2019 - EDV Photo & Form : 50,000+\n",
      "DV 2018 Winners Guide : 1,000+\n",
      "EB Annual Meetings : 1,000+\n",
      "EC - AP & Telangana : 5,000+\n",
      "TN Patta Citta & EC : 10,000+\n",
      "AP Stamps and Registration : 10,000+\n",
      "CompactiMa EC pH Calibration : 100+\n",
      "EGW Writings 2 : 100,000+\n",
      "EGW Writings : 1,000,000+\n",
      "Bible with EGW Comments : 100,000+\n",
      "My Little Pony AR Guide : 1,000,000+\n",
      "SDA Sabbath School Quarterly : 500,000+\n",
      "Duaa Ek Ibaadat : 5,000+\n",
      "Spanish English Translator : 10,000,000+\n",
      "Dictionary - Merriam-Webster : 10,000,000+\n",
      "JW Library : 10,000,000+\n",
      "Oxford Dictionary of English : Free : 10,000,000+\n",
      "English Hindi Dictionary : 10,000,000+\n",
      "English to Hindi Dictionary : 5,000,000+\n",
      "EP Research Service : 1,000+\n",
      "Hymnes et Louanges : 100,000+\n",
      "EU Charter : 1,000+\n",
      "EU Data Protection : 1,000+\n",
      "EU IP Codes : 100+\n",
      "EW PDF : 5+\n",
      "BakaReader EX : 100,000+\n",
      "EZ Quran : 50,000+\n",
      "FA Part 1 & 2 Past Papers Solved Free – Offline : 5,000+\n",
      "La Fe de Jesus : 1,000+\n",
      "La Fe de Jesús : 500+\n",
      "Le Fe de Jesus : 500+\n",
      "Florida - Pocket Brainbook : 1,000+\n",
      "Florida Statutes (FL Code) : 1,000+\n",
      "English To Shona Dictionary : 10,000+\n",
      "Greek Bible FP (Audio) : 1,000+\n",
      "Golden Dictionary (FR-AR) : 500,000+\n",
      "Fanfic-FR : 5,000+\n",
      "Bulgarian French Dictionary Fr : 10,000+\n",
      "Chemin (fr) : 1,000+\n",
      "The SCP Foundation DB fr nn5n : 1,000+\n"
     ]
    }
   ],
   "source": [
    "for app in google_final:\n",
    "    if app[1] == 'BOOKS_AND_REFERENCE':\n",
    "        print(app[0], ':', app[5])"
   ]
  },
  {
   "cell_type": "markdown",
   "metadata": {},
   "source": [
    "The book and reference genre includes a variety of apps: software for processing and reading ebooks, various collections of libraries, dictionaries, tutorials on programming or languages, etc. It seems there's still a small number of extremely popular apps that skew the average:"
   ]
  },
  {
   "cell_type": "code",
   "execution_count": 56,
   "metadata": {},
   "outputs": [
    {
     "name": "stdout",
     "output_type": "stream",
     "text": [
      "Google Play Books : 1,000,000,000+\n",
      "Bible : 100,000,000+\n",
      "Amazon Kindle : 100,000,000+\n",
      "Wattpad 📖 Free Books : 100,000,000+\n",
      "Audiobooks from Audible : 100,000,000+\n"
     ]
    }
   ],
   "source": [
    "for app in google_final:\n",
    "    if app[1] == 'BOOKS_AND_REFERENCE' and (app[5] == '1,000,000,000+'\n",
    "                                            or app[5] == '500,000,000+'\n",
    "                                            or app[5] == '100,000,000+'):\n",
    "        print(app[0], ':', app[5])"
   ]
  },
  {
   "cell_type": "markdown",
   "metadata": {},
   "source": [
    "However, it looks like there are only a few very popular apps, so this market still shows potential. It's also very popular on the App Store. Just steer clear of overdone apps such as ebooks, libraris, and tutorials. There are quite a few apps built around the Quran, which suggests that building an app around a popular book can be profitable. It seems that taking a popular book (perhaps a more recent book) and turning it into an app could be profitable for both the Google Play and the App Store markets. \n",
    "\n",
    "## Should I Build My App?\n",
    "I've already established that the Reference genre is likely the best genre to get into. The paid version of the app I considered building is categorized as Travel. \n",
    "\n",
    "Travel is mildly successful in both stores. Travel apps average 28K user reviews in the App Store. Google, Yelp, and GasBuddy are the most reviewed travel apps. Next is rideshare and large booking agencies. It could be difficult to compete with well funded, and well advertised apps. The paid version isn't in this data set. It has 775 reviews. So it would be in the middle bottom of Travel apps shown below. "
   ]
  },
  {
   "cell_type": "code",
   "execution_count": 57,
   "metadata": {
    "scrolled": true
   },
   "outputs": [
    {
     "name": "stdout",
     "output_type": "stream",
     "text": [
      "Google Earth : 446185\n",
      "Yelp - Nearby Restaurants, Shopping & Services : 223885\n",
      "GasBuddy : 145549\n",
      "TripAdvisor Hotels Flights Restaurants : 56194\n",
      "Uber : 49466\n",
      "Lyft : 46922\n",
      "HotelTonight - Great Deals on Last Minute Hotels : 32341\n",
      "Hotels & Vacation Rentals by Booking.com : 31261\n",
      "Southwest Airlines : 30552\n",
      "Airbnb : 22302\n",
      "Expedia Hotels, Flights & Vacation Package Deals : 10278\n",
      "Fly Delta : 8094\n",
      "Hopper - Predict, Watch & Book Flights : 6944\n",
      "United Airlines : 5748\n",
      "Skiplagged — Actually Cheap Flights & Hotels : 1851\n",
      "Viator Tours & Activities : 1839\n",
      "iExit Interstate Exit Guide : 1798\n",
      "Gogo Entertainment : 1482\n",
      "Google Street View : 1450\n",
      "Webcams – EarthCam : 912\n",
      "HISTORY Here : 685\n",
      "DB Navigator : 512\n",
      "Mobike - Dockless Bike Share : 494\n",
      "MiFlight™ – Airport security line wait times at checkpoints for domestic and international travelers : 493\n",
      "BlaBlaCar - Trusted Carpooling : 397\n",
      "Six Flags : 353\n",
      "Google Trips – Travel planner : 329\n",
      "Voyages-sncf.com : book train and bus tickets : 268\n",
      "Trainline UK: Live Train Times, Tickets & Planner : 248\n",
      "Urlaubspiraten : 188\n",
      "铁路12306 : 177\n",
      "Ryanair - Cheapest Fares : 175\n",
      "飞猪 : 154\n",
      "Fleet Air Travel Guide & Airport Directory : 105\n",
      "FlixBus - bus travel in Europe : 92\n",
      "Ab in den Urlaub – Pauschalreisen günstig buchen : 22\n",
      "SNCF : 7\n",
      "skyticket - Reserve Best Valued Air Tickets : 0\n",
      "Fluege.de - Finde den billigsten Flug : 0\n",
      "VoiceTra(Voice Translator) : 0\n"
     ]
    }
   ],
   "source": [
    "for app in apple_final:\n",
    "    if app[-5] == 'Travel':\n",
    "        print(app[1], ':', app[5])"
   ]
  },
  {
   "cell_type": "markdown",
   "metadata": {},
   "source": [
    "The Google Play Store data set shows around 14 million downloads for Travel apps. Travel apps on the Play Store follow a similar makeup to the App Store. Dominated by well funded, large corporate apps shown below."
   ]
  },
  {
   "cell_type": "code",
   "execution_count": 58,
   "metadata": {},
   "outputs": [
    {
     "name": "stdout",
     "output_type": "stream",
     "text": [
      "trivago: Hotels & Travel : 50,000,000+\n",
      "Hopper - Watch & Book Flights : 5,000,000+\n",
      "TripIt: Travel Organizer : 1,000,000+\n",
      "Trip by Skyscanner - City & Travel Guide : 500,000+\n",
      "CityMaps2Go Plan Trips Travel Guide Offline Maps : 1,000,000+\n",
      "KAYAK Flights, Hotels & Cars : 10,000,000+\n",
      "World Travel Guide by Triposo : 500,000+\n",
      "Booking.com Travel Deals : 100,000,000+\n",
      "Hostelworld: Hostels & Cheap Hotels Travel App : 1,000,000+\n",
      "Google Trips - Travel Planner : 5,000,000+\n",
      "GPS Map Free : 5,000,000+\n",
      "GasBuddy: Find Cheap Gas : 10,000,000+\n",
      "Southwest Airlines : 5,000,000+\n",
      "AT&T Navigator: Maps, Traffic : 10,000,000+\n",
      "VZ Navigator : 50,000,000+\n",
      "KakaoMap - Map / Navigation : 10,000,000+\n",
      "AirAsia : 10,000,000+\n",
      "Expedia Hotels, Flights & Car Rental Travel Deals : 10,000,000+\n",
      "Goibibo - Flight Hotel Bus Car IRCTC Booking App : 10,000,000+\n",
      "Allegiant : 1,000,000+\n",
      "Amtrak : 1,000,000+\n",
      "JAL (Domestic and international flights) : 1,000,000+\n",
      "Flight & Hotel Booking App - ixigo : 5,000,000+\n",
      "VZ Navigator for Tablets : 500,000+\n",
      "TripAdvisor Hotels Flights Restaurants Attractions : 100,000,000+\n",
      "HSL - Tickets, route planner and information : 100,000+\n",
      "Wisepilot for XPERIA™ : 5,000,000+\n",
      "VZ Navigator for Galaxy S4 : 5,000,000+\n",
      "MAIN : 1,000,000+\n",
      "Yoriza Pension - travel, lodging, pension, camping, caravan, pool villas accommodation discount : 1,000,000+\n",
      "Foursquare Swarm: Check In : 10,000,000+\n",
      "PagesJaunes - local search : 10,000,000+\n",
      "Flightradar24 Flight Tracker : 10,000,000+\n",
      "Yatra - Flights, Hotels, Bus, Trains & Cabs : 10,000,000+\n",
      "SNCF : 5,000,000+\n",
      "Fly Delta : 5,000,000+\n",
      "Skyscanner : 10,000,000+\n",
      "Despegar.com Hotels and Flights : 10,000,000+\n",
      "Navigation Plus : 1,000,000+\n",
      "2GIS: directory & navigator : 50,000,000+\n",
      "Poynt : 5,000,000+\n",
      "Gaode Map : 1,000,000+\n",
      "Priceline Hotel Deals, Rental Cars & Flights : 5,000,000+\n",
      "TravelPirates : 1,000,000+\n",
      "Free Radar Detector : 1,000,000+\n",
      "American Airlines : 5,000,000+\n",
      "Where to travel - ticket. hotel. train ticket. car ticket. travel. tickets : 1,000,000+\n",
      "United Airlines : 5,000,000+\n",
      "NTES : 10,000,000+\n",
      "Where is my Train : Indian Railway & PNR Status : 10,000,000+\n",
      "MakeMyTrip-Flight Hotel Bus Cab IRCTC Rail Booking : 10,000,000+\n",
      "Restaurant Finder : 1,000,000+\n",
      "Zagat : 100,000+\n",
      "Gormey: Find Best Restaurants : 1,000+\n",
      "Find Dining Restaurant Finder : 100,000+\n",
      "Urbanspoon Restaurant Reviews : 5,000,000+\n",
      "Yelp: Food, Shopping, Services Nearby : 10,000,000+\n",
      "Qatar Airways : 1,000,000+\n",
      "Hipmunk Hotels & Flights : 1,000,000+\n",
      "Skiplagged — Exclusive Flights & Hotels : 1,000,000+\n",
      "CWT To Go : 100,000+\n",
      "British Airways : 1,000,000+\n",
      "Cheap Flights & Hotels momondo : 5,000,000+\n",
      "CheapTickets – Hotels, Flights & Travel Deals : 1,000,000+\n",
      "JetBlue : 1,000,000+\n",
      "Flights : 1,000,000+\n",
      "Cheapflights – Flight Search : 5,000,000+\n",
      "KLM - Royal Dutch Airlines : 1,000,000+\n",
      "Orbitz - Hotels, Flights & Package Deals : 1,000,000+\n",
      "Lufthansa : 1,000,000+\n",
      "easyJet: Travel App : 10,000,000+\n",
      "IndiGo : 5,000,000+\n",
      "LateRooms: Find Hotel Deals : 1,000,000+\n",
      "Choice Hotels : 1,000,000+\n",
      "Couchsurfing Travel App : 1,000,000+\n",
      "Hotwire Hotel & Car Rental App : 1,000,000+\n",
      "HOTEL DEALS : 100,000+\n",
      "HomeAway Vacation Rentals : 5,000,000+\n",
      "IHG®: Hotel Deals & Rewards : 1,000,000+\n",
      "SPG: Starwood Hotels & Resorts : 1,000,000+\n",
      "Hotels.com: Book Hotel Rooms & Find Vacation Deals : 10,000,000+\n",
      "HotelTonight: Book amazing deals at great hotels : 5,000,000+\n",
      "Airbnb : 10,000,000+\n",
      "Hotels Combined - Cheap deals : 5,000,000+\n",
      "Agoda – Hotel Booking Deals : 10,000,000+\n",
      "Turo - Better Than Car Rental : 1,000,000+\n",
      "Ascape VR: 360° Virtual Travel : 100,000+\n",
      "Cheap hotel deals and discounts — Hotellook : 1,000,000+\n",
      "Maps - Navigate & Explore : 1,000,000,000+\n",
      "GPS Status & Toolbox : 10,000,000+\n",
      "Airport + Flight Tracker Radar : 1,000,000+\n",
      "Scout GPS Navigation & Meet Up : 5,000,000+\n",
      "Street Panorama View : 1,000,000+\n",
      "Geo Tracker - GPS tracker : 1,000,000+\n",
      "DreamTrips : 500,000+\n",
      "Navmii GPS USA (Navfree) : 500,000+\n",
      "Sygic Truck GPS Navigation : 1,000,000+\n",
      "Google Street View : 1,000,000,000+\n",
      "Air Transat CinePlus B : 50,000+\n",
      "U-Haul : 100,000+\n",
      "Octo U: Your driving companion : 50,000+\n",
      "Flexiroam X : 100,000+\n",
      "Connect.ae - Local Search UAE : 10,000+\n",
      "Toppen af Danmark : 5,000+\n",
      "Alabama Road Trips : 10,000+\n",
      "Official AL Fishing & Hunting : 50,000+\n",
      "Where Am I At? : 10,000+\n",
      "Where Am I? GPS Loc : 10,000+\n",
      "Live Camera Viewer ★ World Webcam & IP Cam Streams : 10,000,000+\n",
      "Portal AR - Step Into Scotland : 5,000+\n",
      "Casino AZ/Talking Stick Resort : 10,000+\n",
      "Explore Sedona & Northern AZ : 10,000+\n",
      "Arizona Trail : 5,000+\n",
      "Phoenix and Arizona Cameras : 10,000+\n",
      "Experience BA : 100+\n",
      "BA Status : 100+\n",
      "Avios for Android : 100,000+\n",
      "Explore British Columbia - BC Travel Guide : 500+\n",
      "BC Highways - Road Conditions : 10,000+\n",
      "Victoria, BC | Tour City : 1,000+\n",
      "British Columbia Tourist Places (Guide) : 100+\n",
      "BG Metro - Red voznje : 1,000+\n",
      "BG Guide : 100+\n",
      "trip.bg : 1,000+\n",
      "Belo Horizonte Map offline : 1,000+\n",
      "BH Mission Playbook : 100+\n",
      "BH Rocking : 100+\n",
      "Digital Tourist BH Itinerary : 500+\n",
      "BL info : 5,000+\n",
      "BPme - Mobile Fuel Payment & BP Driver Rewards app : 10,000+\n",
      "Wherever BQ : 50+\n",
      "BU Dental GoGoldman : 100+\n",
      "BU Questrom Launch : 100+\n",
      "BU School of Public Health : 10+\n",
      "BV Aventure : 100+\n",
      "BV Rando : 100+\n",
      "Best Western To Go : 100,000+\n",
      "BW Map mobile : 10,000+\n",
      "Best Western e-Concierge Hotel : 10,000+\n",
      "24/7 BZ Reis : 100,000+\n",
      "BZ Vesper-App : 1,000+\n",
      "Restaurantführer Südbaden : 1,000+\n",
      "BZ Straußenführer : 10,000+\n",
      "California Cameras - Traffic : 10,000+\n",
      "Kiosque CD : 5+\n",
      "US 115th CD : 5+\n",
      "CE AH VLJ : 1,000+\n",
      "search.ch : 500,000+\n",
      "CJ's Coffee Cafe : 500+\n",
      "Camping and Co - Camping in Europe : 1,000+\n",
      "CQ Hotels : 10,000+\n",
      "SHUTTLLS CQ - Connect Ride Go : 5+\n",
      "Cathay Pacific : 1,000,000+\n",
      "Map of Cyprus offline : 10,000+\n",
      "DB BAHN : 500+\n",
      "DB FahrtProfi : 1,000+\n",
      "DC Metro Transit - Free : 500,000+\n",
      "DC Trails-Hop On Hop Off Tours : 5,000+\n",
      "Can I pack that? - DG App : 10,000+\n",
      "DG Cars : 10,000+\n",
      "DK Eyewitness Audio Walks : 1,000+\n",
      "DM Transfers Dalaman Transfers : 10,000+\n",
      "US DV Lottery 2020 Apply : 10,000+\n",
      "US DV Lottery 2019 : 1,000+\n",
      "DW Maps : 10,000+\n",
      "junainfo.dy.fi : 100+\n",
      "Siyaha Dz : 10,000+\n",
      "IRIS : Customer Service - DZ Algeria : 1,000+\n",
      "DZ Fly Algérie Horaire Vols : 10,000+\n",
      "EA Plus : 1,000+\n",
      "EB Events : 10,000+\n",
      "Audiowalk EB : 10+\n",
      "EF Go Ahead Tour Companion : 1,000+\n",
      "EF Summits : 100+\n",
      "EG SIM CARD (EGSIMCARD) : 10,000+\n",
      "The Emirates App : 1,000,000+\n",
      "Ek-yatri: Travel where you Belong : 1+\n",
      "EL AL Flights : 100,000+\n",
      "DreamStream By EL AL : 100,000+\n",
      "El Dorado App : 10,000+\n",
      "EO Hotels : 100+\n",
      "Fill 'er Up : 5,000+\n",
      "MAPS.ME – Offline Map and Travel Navigation : 50,000,000+\n",
      "Google Earth : 100,000,000+\n",
      "Offline Maps & Navigation : 5,000,000+\n",
      "myLPG.eu : 50,000+\n",
      "Passenger rights : 50,000+\n",
      "taxi.eu : 100,000+\n",
      "To-U - free EV public charging : 1,000+\n",
      "Bird - Enjoy The Ride : 500,000+\n",
      "eCooltra: scooter sharing. Share electric scooters : 100,000+\n",
      "XE Currency : 10,000,000+\n",
      "Etihad Airways : 500,000+\n",
      "EZ TAG Express : 10,000+\n",
      "Santa Fe Map and Walks : 1,000+\n",
      "Santa Fe VIP Tours : 100+\n",
      "Toyota Cruisers & Trucks Mag : 500+\n",
      "FL State Parks Guide : 100,000+\n",
      "Florida Travel Guide : 1,000+\n",
      "The Florida Trail Guide : 5,000+\n",
      "Florida Keys : 10,000+\n",
      "Florida Travel Guide - TOURIAS : 10,000+\n",
      "Florida map : 5,000+\n",
      "Florida Beach Wallpapers HD : 100+\n",
      "ORLANDO FLORIDA MAP : 1,000+\n",
      "Florida Offline Road Map : 10,000+\n",
      "Florida Map offline : 1,000+\n"
     ]
    }
   ],
   "source": [
    "for app in google_final:\n",
    "    if app[1] == 'TRAVEL_AND_LOCAL':\n",
    "        print(app[0], ':', app[5])"
   ]
  },
  {
   "cell_type": "markdown",
   "metadata": {},
   "source": [
    "## Conclusion\n",
    "Should I build my app? From my quick analysis the answer is no,  not if I intend it to be profitable. The Travel app market is dominated by large travel company apps. So it could be hard to get noticed in this genre. Furthermore it is not the most popular app genre, a reasonably priced paid version already exists on the App Store, and on further inspection, three free versions exist on the Play Store. \n",
    "\n",
    "From my analysis, a reference app would be the best to create. Specifically, it seems that taking a popular book  and turning it into an app could be profitable for both the Google Play and the App Store markets. "
   ]
  }
 ],
 "metadata": {
  "kernelspec": {
   "display_name": "Python 3",
   "language": "python",
   "name": "python3"
  },
  "language_info": {
   "codemirror_mode": {
    "name": "ipython",
    "version": 3
   },
   "file_extension": ".py",
   "mimetype": "text/x-python",
   "name": "python",
   "nbconvert_exporter": "python",
   "pygments_lexer": "ipython3",
   "version": "3.7.6"
  }
 },
 "nbformat": 4,
 "nbformat_minor": 2
}
